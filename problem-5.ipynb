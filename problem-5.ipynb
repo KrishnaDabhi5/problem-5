{
 "cells": [
  {
   "cell_type": "code",
   "execution_count": 1,
   "id": "71cd7388",
   "metadata": {},
   "outputs": [],
   "source": [
    "#Write a program that will reverse a four digit number."
   ]
  },
  {
   "cell_type": "code",
   "execution_count": 3,
   "id": "df2570dd",
   "metadata": {},
   "outputs": [
    {
     "name": "stdout",
     "output_type": "stream",
     "text": [
      "enter four digit number: 5214\n",
      "reverse number is:  4125\n"
     ]
    }
   ],
   "source": [
    "num = int(input(\"enter four digit number: \"))\n",
    "a = num % 10\n",
    "num1 = num // 10\n",
    "b = num1 % 10\n",
    "num2 = num1 // 10\n",
    "c = num2 % 10\n",
    "num3 = num2 // 10\n",
    "d = num3 % 10\n",
    "rev = 1000*a +100*b + 10*c + d\n",
    "print(\"reverse number is: \", rev)"
   ]
  },
  {
   "cell_type": "code",
   "execution_count": null,
   "id": "df14d654",
   "metadata": {},
   "outputs": [],
   "source": [
    "\n",
    "\n",
    "\n"
   ]
  }
 ],
 "metadata": {
  "kernelspec": {
   "display_name": "Python 3 (ipykernel)",
   "language": "python",
   "name": "python3"
  },
  "language_info": {
   "codemirror_mode": {
    "name": "ipython",
    "version": 3
   },
   "file_extension": ".py",
   "mimetype": "text/x-python",
   "name": "python",
   "nbconvert_exporter": "python",
   "pygments_lexer": "ipython3",
   "version": "3.10.8"
  }
 },
 "nbformat": 4,
 "nbformat_minor": 5
}
